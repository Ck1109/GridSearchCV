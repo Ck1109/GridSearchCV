{
  "nbformat": 4,
  "nbformat_minor": 0,
  "metadata": {
    "colab": {
      "provenance": []
    },
    "kernelspec": {
      "name": "python3",
      "display_name": "Python 3"
    },
    "language_info": {
      "name": "python"
    }
  },
  "cells": [
    {
      "cell_type": "code",
      "execution_count": 1,
      "metadata": {
        "colab": {
          "base_uri": "https://localhost:8080/"
        },
        "id": "ABxL6HYm9rnp",
        "outputId": "71bec946-d8ca-430b-cf20-a5f2754d88b0"
      },
      "outputs": [
        {
          "output_type": "stream",
          "name": "stdout",
          "text": [
            "SVM accuracy: 0.9778\n",
            "Random Forest accuracy: 1.0000\n",
            "K-Nearest Neighbors accuracy: 1.0000\n",
            "\n",
            "Best performing model: Random Forest\n"
          ]
        }
      ],
      "source": [
        "import numpy as np\n",
        "import pandas as pd\n",
        "from sklearn.datasets import load_iris\n",
        "from sklearn.model_selection import train_test_split, GridSearchCV\n",
        "from sklearn.preprocessing import StandardScaler\n",
        "from sklearn.svm import SVC\n",
        "from sklearn.ensemble import RandomForestClassifier\n",
        "from sklearn.neighbors import KNeighborsClassifier\n",
        "from sklearn.metrics import accuracy_score\n",
        "\n",
        "# Load the Iris dataset\n",
        "iris = load_iris()\n",
        "X, y = iris.data, iris.target\n",
        "\n",
        "# Split the data into training and testing sets\n",
        "X_train, X_test, y_train, y_test = train_test_split(X, y, test_size=0.3, random_state=42)\n",
        "\n",
        "# Standardize the features (optional but often beneficial for certain models)\n",
        "scaler = StandardScaler()\n",
        "X_train = scaler.fit_transform(X_train)\n",
        "X_test = scaler.transform(X_test)\n",
        "\n",
        "# Initialize classifiers\n",
        "svc_classifier = SVC(random_state=42)\n",
        "rf_classifier = RandomForestClassifier(random_state=42)\n",
        "knn_classifier = KNeighborsClassifier()\n",
        "\n",
        "# Define the hyperparameter grid for each classifier\n",
        "svc_param_grid = {'kernel': ['linear', 'rbf', 'poly'], 'C': [0.1, 1, 10]}\n",
        "rf_param_grid = {'n_estimators': [50, 100, 200], 'max_depth': [None, 5, 10]}\n",
        "knn_param_grid = {'n_neighbors': [3, 5, 7]}\n",
        "\n",
        "# Perform GridSearchCV for each classifier\n",
        "svc_grid_search = GridSearchCV(svc_classifier, svc_param_grid, cv=5)\n",
        "rf_grid_search = GridSearchCV(rf_classifier, rf_param_grid, cv=5)\n",
        "knn_grid_search = GridSearchCV(knn_classifier, knn_param_grid, cv=5)\n",
        "\n",
        "# Fit the models with GridSearchCV\n",
        "svc_grid_search.fit(X_train, y_train)\n",
        "rf_grid_search.fit(X_train, y_train)\n",
        "knn_grid_search.fit(X_train, y_train)\n",
        "\n",
        "# Get the best hyperparameters and model for each classifier\n",
        "best_svc_params = svc_grid_search.best_params_\n",
        "best_svc_model = svc_grid_search.best_estimator_\n",
        "\n",
        "best_rf_params = rf_grid_search.best_params_\n",
        "best_rf_model = rf_grid_search.best_estimator_\n",
        "\n",
        "best_knn_params = knn_grid_search.best_params_\n",
        "best_knn_model = knn_grid_search.best_estimator_\n",
        "\n",
        "# Make predictions with the best models\n",
        "svc_pred = best_svc_model.predict(X_test)\n",
        "rf_pred = best_rf_model.predict(X_test)\n",
        "knn_pred = best_knn_model.predict(X_test)\n",
        "\n",
        "# Evaluate accuracy of the best models\n",
        "svc_accuracy = accuracy_score(y_test, svc_pred)\n",
        "rf_accuracy = accuracy_score(y_test, rf_pred)\n",
        "knn_accuracy = accuracy_score(y_test, knn_pred)\n",
        "\n",
        "# Select the best-performing model\n",
        "best_classifier = None\n",
        "best_accuracy = 0\n",
        "\n",
        "classifiers = {\n",
        "    \"SVM\": svc_accuracy,\n",
        "    \"Random Forest\": rf_accuracy,\n",
        "    \"K-Nearest Neighbors\": knn_accuracy\n",
        "}\n",
        "\n",
        "for clf, acc in classifiers.items():\n",
        "    print(f\"{clf} accuracy: {acc:.4f}\")\n",
        "    if acc > best_accuracy:\n",
        "        best_accuracy = acc\n",
        "        best_classifier = clf\n",
        "\n",
        "print(\"\\nBest performing model:\", best_classifier)\n"
      ]
    },
    {
      "cell_type": "code",
      "source": [],
      "metadata": {
        "id": "dV_c8p2m9s9X"
      },
      "execution_count": null,
      "outputs": []
    }
  ]
}